{
  "nbformat": 4,
  "nbformat_minor": 0,
  "metadata": {
    "colab": {
      "provenance": []
    },
    "kernelspec": {
      "name": "python3",
      "display_name": "Python 3"
    },
    "language_info": {
      "name": "python"
    }
  },
  "cells": [
    {
      "cell_type": "code",
      "execution_count": null,
      "metadata": {
        "id": "ba5B1VoS-V2W"
      },
      "outputs": [],
      "source": [
        "import numpy as np\n",
        "import pandas as pd\n",
        "from scipy import stats"
      ]
    },
    {
      "cell_type": "code",
      "source": [
        "age = [32, 44, 27, 17, 16, 28, 12, 37, 18]\n",
        "sd = np.std(age)\n",
        "mean = np.mean(age)\n",
        "median = np.median(age)\n",
        "mode = stats.mode(age)\n",
        "zscore = stats.zscore(age)"
      ],
      "metadata": {
        "id": "GrWkWgb0-wHw"
      },
      "execution_count": null,
      "outputs": []
    },
    {
      "cell_type": "code",
      "source": [
        "print(\"Mean: \", mean)\n",
        "print(\"Median: \", median)\n",
        "print(\"Mode: \", mode)\n",
        "print(\"Standard Deviation: \", sd)\n",
        "print(\"Z-score: \", zscore)"
      ],
      "metadata": {
        "id": "CO955cjB_fSs"
      },
      "execution_count": null,
      "outputs": []
    },
    {
      "cell_type": "code",
      "source": [
        "import matplotlib.pyplot as plt"
      ],
      "metadata": {
        "id": "YKcQDR_ZBQBf"
      },
      "execution_count": null,
      "outputs": []
    },
    {
      "cell_type": "code",
      "source": [
        "plt.hist(age, bins=10)\n",
        "plt.xlabel('Age')\n",
        "plt.ylabel('Frequency')\n",
        "plt.title('Histogram of Age')\n",
        "plt.savefig('histogram.png', dpi = 300)\n",
        "plt.show()"
      ],
      "metadata": {
        "id": "FxbfndEwBXRi"
      },
      "execution_count": null,
      "outputs": []
    },
    {
      "cell_type": "code",
      "source": [
        "import smtplib\n",
        "from email.mime.multipart import MIMEMultipart\n",
        "from email.mime.text import MIMEText\n",
        "from email.mime.image import MIMEImage\n",
        "from email import encoders\n",
        "\n",
        "import datetime\n",
        "import pytz"
      ],
      "metadata": {
        "id": "hLcykOjcDHtV"
      },
      "execution_count": null,
      "outputs": []
    },
    {
      "cell_type": "code",
      "source": [
        "zones = pytz.all_timezones\n",
        "print(zones)"
      ],
      "metadata": {
        "id": "yQHgNAy5JGhl"
      },
      "execution_count": null,
      "outputs": []
    },
    {
      "cell_type": "code",
      "source": [
        "dhaka_zone = pytz.timezone('Asia/Dhaka')\n",
        "dhaka_date_time = datetime.datetime.now(dhaka_zone)\n",
        "dhaka_current_time = dhaka_date_time.strftime(\"%H:%M:%S\")\n",
        "print('Time now in Dhaka:', dhaka_current_time)"
      ],
      "metadata": {
        "id": "CMWSuFvFKAJp"
      },
      "execution_count": null,
      "outputs": []
    },
    {
      "cell_type": "code",
      "source": [
        "#email configuration\n",
        "\n",
        "sender = 'hasin.k.jahan@gmail.com'\n",
        "sender_pass = 'gohjbfbngqwqpgev'\n",
        "receiver = 'almehady@gmail.com'\n",
        "subject = 'Histogram Report'\n",
        "message = 'Please find the histogram attached. ' + dhaka_current_time"
      ],
      "metadata": {
        "id": "jSU6oP3NDtgE"
      },
      "execution_count": null,
      "outputs": []
    },
    {
      "cell_type": "code",
      "source": [
        "msg = MIMEMultipart()\n",
        "msg['From'] = sender\n",
        "msg['To'] = receiver\n",
        "msg['Subject'] = subject\n",
        "msg.attach(MIMEText(message, 'plain'))"
      ],
      "metadata": {
        "id": "-MZRksB3HldD"
      },
      "execution_count": null,
      "outputs": []
    },
    {
      "cell_type": "code",
      "source": [
        "with open('histogram.png', 'rb') as file:\n",
        "    image = MIMEImage(file.read(), name='histogram.png')\n",
        "    msg.attach(image)"
      ],
      "metadata": {
        "id": "cfYPL41kIORt"
      },
      "execution_count": null,
      "outputs": []
    },
    {
      "cell_type": "code",
      "source": [
        "#connect to SMTP server and send\n",
        "with smtplib.SMTP(host='smtp.gmail.com', port=587) as server:\n",
        "    server.starttls()\n",
        "    server.login(sender, sender_pass)\n",
        "    server.send_message(msg)\n",
        "\n",
        "print('Email sent successfully!')"
      ],
      "metadata": {
        "id": "YJsNEHoBIbs8"
      },
      "execution_count": null,
      "outputs": []
    }
  ]
}